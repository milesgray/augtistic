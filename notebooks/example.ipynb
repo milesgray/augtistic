{
 "cells": [
  {
   "cell_type": "code",
   "execution_count": null,
   "metadata": {},
   "outputs": [
    {
     "output_type": "error",
     "ename": "Error",
     "evalue": "Jupyter cannot be started. Error attempting to locate jupyter: Select an Interpreter to start Jupyter",
     "traceback": [
      "Error: Jupyter cannot be started. Error attempting to locate jupyter: Select an Interpreter to start Jupyter",
      "at b.startServer (/home/miles/.vscode/extensions/ms-python.python-2020.9.112786/out/client/extension.js:56:315095)",
      "at runMicrotasks (<anonymous>)",
      "at processTicksAndRejections (internal/process/task_queues.js:94:5)",
      "at b.createServer (/home/miles/.vscode/extensions/ms-python.python-2020.9.112786/out/client/extension.js:56:314537)",
      "at connect (/home/miles/.vscode/extensions/ms-python.python-2020.9.112786/out/client/extension.js:56:442266)",
      "at f.ensureConnectionAndNotebookImpl (/home/miles/.vscode/extensions/ms-python.python-2020.9.112786/out/client/extension.js:32:92482)",
      "at f.ensureConnectionAndNotebook (/home/miles/.vscode/extensions/ms-python.python-2020.9.112786/out/client/extension.js:32:90844)",
      "at f.clearResult (/home/miles/.vscode/extensions/ms-python.python-2020.9.112786/out/client/extension.js:32:86516)",
      "at f.reexecuteCell (/home/miles/.vscode/extensions/ms-python.python-2020.9.112786/out/client/extension.js:9:134265)",
      "at f.reexecuteCells (/home/miles/.vscode/extensions/ms-python.python-2020.9.112786/out/client/extension.js:9:130611)"
     ]
    }
   ],
   "source": [
    "!python ../setup.py install"
   ]
  },
  {
   "cell_type": "code",
   "execution_count": null,
   "metadata": {},
   "outputs": [],
   "source": [
    "import tensorflow as tf\n",
    "import augtistic as aug"
   ]
  },
  {
   "cell_type": "code",
   "execution_count": null,
   "metadata": {},
   "outputs": [],
   "source": [
    "aug_input = Input(IMAGE_SHAPE)\n",
    "#aug_output = AugmentLayer()(aug_input)\n",
    "aug_output = RandomGaussian2D(0.3)(aug_input)\n",
    "aug_output = tf.keras.layers.experimental.preprocessing.RandomFlip(mode=\"horizontal\")(aug_output)\n",
    "aug_output = tf.keras.layers.experimental.preprocessing.RandomTranslation(height_factor=0.01, width_factor=0.0015)(aug_output)\n",
    "aug_output = tf.keras.layers.experimental.preprocessing.RandomContrast(0.075)(aug_output)\n",
    "aug_output = RandomSaturation(0.01)(aug_output)\n",
    "aug_output = RandomBrightness(0.15)(aug_output)\n",
    "aug_output = RandomHue(0.25)(aug_output)\n",
    "#aug_output = RandomDenseImageWarp(0.4, (0.1,0.4))(aug_output)\n",
    "aug_output = RandomGrayscale(0.2)(aug_output)\n",
    "#aug_output = RandomBlendGrayscale(0.2)(aug_output)\n",
    "aug_output = RandomCutout(10, rounds=2)(aug_output)\n",
    "aug_output = RandomCutout(14, rounds=2)(aug_output)\n",
    "aug_output = RandomCutout(8, rounds=2)(aug_output)\n",
    "aug_output = RandomCutout(24, rounds=1)(aug_output)\n",
    "aug_output = tf.keras.layers.experimental.preprocessing.RandomZoom((-0.01,0.1), width_factor=(-0.15,0.05))(aug_output)\n",
    "aug_output = tf.keras.layers.experimental.preprocessing.RandomTranslation((-0.1, 0.05), (-0.1, 0.15))(aug_output)                                                             \n",
    "aug_model_1 = Model(aug_input, aug_output, name=\"augmenter_1\")"
   ]
  },
  {
   "cell_type": "code",
   "execution_count": null,
   "metadata": {},
   "outputs": [],
   "source": [
    "aug_input = Input(IMAGE_SHAPE)\n",
    "aug_output = tf.keras.layers.experimental.preprocessing.RandomFlip(mode=\"horizontal\")(aug_input)\n",
    "aug_output = RandomGaussian2D(0.1)(aug_output)\n",
    "#aug_output = AugmentLayer()(aug_input)\n",
    "#aug_output = RandomMeanFilter2D(filter_factor=10)(aug_input)\n",
    "aug_output = tf.keras.layers.experimental.preprocessing.RandomTranslation(height_factor=0.15, width_factor=0.05)(aug_output)\n",
    "aug_output = tf.keras.layers.experimental.preprocessing.RandomContrast(0.1)(aug_output)\n",
    "aug_output = RandomSaturation(0.2)(aug_output)\n",
    "aug_output = RandomBrightness(0.05)(aug_output)\n",
    "aug_output = RandomHue(0.1)(aug_output)\n",
    "\n",
    "#aug_output = RandomSharpness(0.4, (0.1,0.99))(aug_output)\n",
    "aug_output = RandomGrayscale(0.1)(aug_output)\n",
    "#aug_output = RandomBlendGrayscale(0.5, 0.8)(aug_output)\n",
    "aug_output = RandomCutout(20)(aug_output)\n",
    "aug_output = RandomCutout(8)(aug_output)\n",
    "aug_output = RandomCutout(40)(aug_output)\n",
    "aug_output = tf.keras.layers.experimental.preprocessing.RandomZoom((-0.15,0.1), width_factor=(-0.05,0.1))(aug_output)\n",
    "aug_output = tf.keras.layers.experimental.preprocessing.RandomTranslation((-0.05, 0.1), (-0.15, 0.05))(aug_output) \n",
    "#aug_output = RandomHSVinYIQ(0.25, 0., 0.25, 0., 0.5)                                                            \n",
    "aug_model_2 = Model(aug_input, aug_output, name=\"augmenter_2\")"
   ]
  }
 ],
 "metadata": {
  "kernelspec": {
   "display_name": "Python 3",
   "language": "python",
   "name": "python3"
  },
  "language_info": {
   "codemirror_mode": {
    "name": "ipython",
    "version": 3
   },
   "file_extension": ".py",
   "mimetype": "text/x-python",
   "name": "python",
   "nbconvert_exporter": "python",
   "pygments_lexer": "ipython3",
   "version": "3.6.9"
  }
 },
 "nbformat": 4,
 "nbformat_minor": 4
}